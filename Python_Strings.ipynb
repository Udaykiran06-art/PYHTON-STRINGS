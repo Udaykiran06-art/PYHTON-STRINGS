{
  "nbformat": 4,
  "nbformat_minor": 0,
  "metadata": {
    "colab": {
      "provenance": [],
      "authorship_tag": "ABX9TyPRkMRONY0wRhUxHgkf83b9",
      "include_colab_link": true
    },
    "kernelspec": {
      "name": "python3",
      "display_name": "Python 3"
    },
    "language_info": {
      "name": "python"
    }
  },
  "cells": [
    {
      "cell_type": "markdown",
      "metadata": {
        "id": "view-in-github",
        "colab_type": "text"
      },
      "source": [
        "<a href=\"https://colab.research.google.com/github/Udaykiran06-art/PYHTON-STRINGS/blob/main/Python_Strings.ipynb\" target=\"_parent\"><img src=\"https://colab.research.google.com/assets/colab-badge.svg\" alt=\"Open In Colab\"/></a>"
      ]
    },
    {
      "cell_type": "code",
      "execution_count": null,
      "metadata": {
        "colab": {
          "base_uri": "https://localhost:8080/"
        },
        "id": "lJTWytWM5sYc",
        "outputId": "c4a76f26-887c-4471-bafe-3731c84384ab"
      },
      "outputs": [
        {
          "output_type": "stream",
          "name": "stdout",
          "text": [
            "Hello World\n"
          ]
        }
      ],
      "source": [
        "#printing welcome to pytho programming\n",
        "print(\"Hello World\")"
      ]
    },
    {
      "cell_type": "code",
      "source": [
        "# not in operator\n",
        "print(\"b\"not in 'uday')"
      ],
      "metadata": {
        "colab": {
          "base_uri": "https://localhost:8080/"
        },
        "id": "lhazXOvVXcCa",
        "outputId": "db8fb1f2-3332-4803-9d03-e7d94367e178"
      },
      "execution_count": null,
      "outputs": [
        {
          "output_type": "stream",
          "name": "stdout",
          "text": [
            "True\n"
          ]
        }
      ]
    },
    {
      "cell_type": "code",
      "source": [
        "#printing str class methods by using dir(str)function\n",
        "print(dir(str))"
      ],
      "metadata": {
        "colab": {
          "base_uri": "https://localhost:8080/"
        },
        "id": "HHtTEumJXpai",
        "outputId": "7cb2f2f4-f2e2-43f5-fccc-6ec85fc2bd69"
      },
      "execution_count": null,
      "outputs": [
        {
          "output_type": "stream",
          "name": "stdout",
          "text": [
            "['__add__', '__class__', '__contains__', '__delattr__', '__dir__', '__doc__', '__eq__', '__format__', '__ge__', '__getattribute__', '__getitem__', '__getnewargs__', '__getstate__', '__gt__', '__hash__', '__init__', '__init_subclass__', '__iter__', '__le__', '__len__', '__lt__', '__mod__', '__mul__', '__ne__', '__new__', '__reduce__', '__reduce_ex__', '__repr__', '__rmod__', '__rmul__', '__setattr__', '__sizeof__', '__str__', '__subclasshook__', 'capitalize', 'casefold', 'center', 'count', 'encode', 'endswith', 'expandtabs', 'find', 'format', 'format_map', 'index', 'isalnum', 'isalpha', 'isascii', 'isdecimal', 'isdigit', 'isidentifier', 'islower', 'isnumeric', 'isprintable', 'isspace', 'istitle', 'isupper', 'join', 'ljust', 'lower', 'lstrip', 'maketrans', 'partition', 'removeprefix', 'removesuffix', 'replace', 'rfind', 'rindex', 'rjust', 'rpartition', 'rsplit', 'rstrip', 'split', 'splitlines', 'startswith', 'strip', 'swapcase', 'title', 'translate', 'upper', 'zfill']\n"
          ]
        }
      ]
    },
    {
      "cell_type": "code",
      "source": [
        "#conventing from lowercase to uppercase\n",
        "name = \"uday\"\n",
        "print(\"Before Conventing:\",name)\n",
        "print(\"After Conventing:\",name.upper())"
      ],
      "metadata": {
        "colab": {
          "base_uri": "https://localhost:8080/"
        },
        "id": "HzDS9-wFYBI5",
        "outputId": "1f86aa85-26e0-45f4-eee8-80782014698d"
      },
      "execution_count": null,
      "outputs": [
        {
          "output_type": "stream",
          "name": "stdout",
          "text": [
            "Before Conventing: uday\n",
            "After Conventing: UDAY\n"
          ]
        }
      ]
    },
    {
      "cell_type": "code",
      "source": [
        "#conventing from uppercase to lowercase\n",
        "name = \"UDAY\"\n",
        "print(\"Before Conventing:\",name)\n",
        "print(\"After Conventing:\",name.lower())"
      ],
      "metadata": {
        "colab": {
          "base_uri": "https://localhost:8080/"
        },
        "id": "t213JtOeYnyq",
        "outputId": "1589d161-4545-4ff4-bd6b-ce514d661551"
      },
      "execution_count": null,
      "outputs": [
        {
          "output_type": "stream",
          "name": "stdout",
          "text": [
            "Before Conventing: UDAY\n",
            "After Conventing: uday\n"
          ]
        }
      ]
    },
    {
      "cell_type": "code",
      "source": [
        "#removing spaces in starting and ending of the string\n",
        "name = \" Uday    \"\n",
        "print(\"Before Removing Spaces length is:\",len(name))\n",
        "x = name.strip()\n",
        "print(\"After Removing Spaces length is:\",len(x))"
      ],
      "metadata": {
        "colab": {
          "base_uri": "https://localhost:8080/"
        },
        "id": "naaK9-boZISr",
        "outputId": "900d1445-15c8-486a-9093-fdea4fcac5e5"
      },
      "execution_count": null,
      "outputs": [
        {
          "output_type": "stream",
          "name": "stdout",
          "text": [
            "Before Removing Spaces length is: 9\n",
            "After Removing Spaces length is: 4\n"
          ]
        }
      ]
    },
    {
      "cell_type": "code",
      "source": [
        "#counting sub string by using count()method\n",
        "s = \"Python Programming language,Pyhton is easy \"\n",
        "print(s.count(\"Python\"))\n",
        "print(s.count(\"hello\"))"
      ],
      "metadata": {
        "colab": {
          "base_uri": "https://localhost:8080/"
        },
        "id": "Hu0UoM_caXrC",
        "outputId": "45c3347f-a9a9-4fa1-d6c1-a8fbbe5d845e"
      },
      "execution_count": null,
      "outputs": [
        {
          "output_type": "stream",
          "name": "stdout",
          "text": [
            "1\n",
            "0\n"
          ]
        }
      ]
    },
    {
      "cell_type": "code",
      "source": [
        "#replacing string by using replace method\n",
        "s1 = \"Python Programming Language\"\n",
        "s2 = s1.replace(\"Python\",\"Java\")\n",
        "print(s1)\n",
        "print(s2)"
      ],
      "metadata": {
        "colab": {
          "base_uri": "https://localhost:8080/"
        },
        "id": "b6HdJvA9a7hg",
        "outputId": "9fcf00fe-6049-464d-ad72-cc3d7ab5f052"
      },
      "execution_count": null,
      "outputs": [
        {
          "output_type": "stream",
          "name": "stdout",
          "text": [
            "Python Programming Language\n",
            "Java Programming Language\n"
          ]
        }
      ]
    },
    {
      "cell_type": "code",
      "source": [
        "#replacing string by using replace(p1,p2)method\n",
        "s1 = \"Python Programming Language\"\n",
        "s2 = s1.replace(\"Python\",\"Java\")\n",
        "print(s1)\n",
        "print(s2)\n",
        "\n",
        "print(id(s1))\n",
        "print(id(s2))"
      ],
      "metadata": {
        "colab": {
          "base_uri": "https://localhost:8080/"
        },
        "id": "gWrj1--bbhbV",
        "outputId": "9e8bfc03-9702-49ca-cb02-5b0096c805fb"
      },
      "execution_count": null,
      "outputs": [
        {
          "output_type": "stream",
          "name": "stdout",
          "text": [
            "Python Programming Language\n",
            "Java Programming Language\n",
            "137941104354336\n",
            "137941104310464\n"
          ]
        }
      ]
    },
    {
      "cell_type": "code",
      "source": [
        "#spliting string by using split()method\n",
        "s1 = \"Python Programming Language\"\n",
        "u = s1.split()\n",
        "\n",
        "print(\"Before Spliting:\",s1)\n",
        "print(\"After Spliting:\",u)"
      ],
      "metadata": {
        "colab": {
          "base_uri": "https://localhost:8080/"
        },
        "id": "_b0G0N0Ybz--",
        "outputId": "789ccb31-13e9-4455-c891-3681c51ddc8a"
      },
      "execution_count": null,
      "outputs": [
        {
          "output_type": "stream",
          "name": "stdout",
          "text": [
            "Before Spliting: Python Programming Language\n",
            "After Spliting: ['Python', 'Programming', 'Language']\n"
          ]
        }
      ]
    },
    {
      "cell_type": "code",
      "source": [
        "#spliting string by using split(p)method\n",
        "s = \"This is,Python Programming,Language\"\n",
        "u = s.split(\",\")\n",
        "print(\"Before Spliting:\",s)\n",
        "print(\"After Spliting:\",u)"
      ],
      "metadata": {
        "colab": {
          "base_uri": "https://localhost:8080/"
        },
        "id": "ETdfdoskchrT",
        "outputId": "12a672bd-67ad-4e49-b2e3-e2ac0a396811"
      },
      "execution_count": null,
      "outputs": [
        {
          "output_type": "stream",
          "name": "stdout",
          "text": [
            "Before Spliting: This is,Python Programming,Language\n",
            "After Spliting: ['This is', 'Python Programming', 'Language']\n"
          ]
        }
      ]
    },
    {
      "cell_type": "code",
      "source": [
        "#creating a string by using all possibillites\n",
        "name1 = 'Uday'\n",
        "name2 = \"Deepu\"\n",
        "name3 = '''Revanth'''\n",
        "name4 = \"\"\"Mohit\"\"\"\n",
        "print(name1,\"name is created by using single quotes\")\n",
        "print(name2,\"name is created by using double quotes\")\n",
        "print(name3,\"name is created by using triple quotes\")\n",
        "print(name4,\"name is created by using triple double quotes\")"
      ],
      "metadata": {
        "colab": {
          "base_uri": "https://localhost:8080/"
        },
        "id": "Z7uPKMZc6Dvz",
        "outputId": "a0fcc5c7-7ac9-40e5-dcdb-fdad03c2b7dc"
      },
      "execution_count": null,
      "outputs": [
        {
          "output_type": "stream",
          "name": "stdout",
          "text": [
            "Uday name is created by using single quotes\n",
            "Deepu name is created by using double quotes\n",
            "Revanth name is created by using triple quotes\n",
            "Mohit name is created by using triple double quotes\n"
          ]
        }
      ]
    },
    {
      "cell_type": "code",
      "source": [
        "#printing employees information\n",
        "loc1 = \"\"\"Tcs company\n",
        "          white field\n",
        "          banglore\"\"\"\n",
        "\n",
        "loc2 = \"\"\"Infosys company\n",
        "          white field\n",
        "          banglore\"\"\"\n",
        "\n",
        "print(loc1)\n",
        "print()\n",
        "print(loc2)"
      ],
      "metadata": {
        "colab": {
          "base_uri": "https://localhost:8080/"
        },
        "id": "impNM79v7LFw",
        "outputId": "58837e1d-55e3-4dae-900d-b1f9c64e2a0e"
      },
      "execution_count": null,
      "outputs": [
        {
          "output_type": "stream",
          "name": "stdout",
          "text": [
            "Tcs company\n",
            "          white field\n",
            "          banglore\n",
            "\n",
            "Infosys company\n",
            "          white field\n",
            "          banglore\n"
          ]
        }
      ]
    },
    {
      "cell_type": "code",
      "source": [
        "#accessing string by using index\n",
        "wish = \"Happy Birthday\"\n",
        "print(wish[0])\n",
        "print(wish[1])\n",
        "print(wish[6])"
      ],
      "metadata": {
        "colab": {
          "base_uri": "https://localhost:8080/"
        },
        "id": "ggZ8WBXI7zJO",
        "outputId": "aeda700b-89bd-4caa-a2f4-1503138c7094"
      },
      "execution_count": null,
      "outputs": [
        {
          "output_type": "stream",
          "name": "stdout",
          "text": [
            "H\n",
            "a\n",
            "B\n"
          ]
        }
      ]
    },
    {
      "cell_type": "code",
      "source": [
        "#accessing string by using slicling\n",
        "wish = \"Happy Birthday\"\n",
        "print(wish[0:5])\n",
        "print(wish[5:14])"
      ],
      "metadata": {
        "colab": {
          "base_uri": "https://localhost:8080/"
        },
        "id": "LwBfJnFI8L6_",
        "outputId": "d9bda117-ae16-4bf2-9725-53df361cb82f"
      },
      "execution_count": null,
      "outputs": [
        {
          "output_type": "stream",
          "name": "stdout",
          "text": [
            "Happy\n",
            " Birthday\n"
          ]
        }
      ]
    },
    {
      "cell_type": "code",
      "source": [
        "#accessing string by using for loop\n",
        "wish =\"Happy Birthday\"\n",
        "for char in wish:\n",
        "  print(char)"
      ],
      "metadata": {
        "colab": {
          "base_uri": "https://localhost:8080/"
        },
        "id": "729hsmSH8shu",
        "outputId": "525bba5f-d34f-4d28-9d2d-4dc426291c64"
      },
      "execution_count": null,
      "outputs": [
        {
          "output_type": "stream",
          "name": "stdout",
          "text": [
            "H\n",
            "a\n",
            "p\n",
            "p\n",
            "y\n",
            " \n",
            "B\n",
            "i\n",
            "r\n",
            "t\n",
            "h\n",
            "d\n",
            "a\n",
            "y\n"
          ]
        }
      ]
    },
    {
      "cell_type": "code",
      "source": [
        "#printing name and first index in string\n",
        "name = \"Sarvani\"\n",
        "print(name)\n",
        "print(name[0])"
      ],
      "metadata": {
        "colab": {
          "base_uri": "https://localhost:8080/"
        },
        "id": "ms_57ZqTAG2p",
        "outputId": "ccfab21a-bcf5-4137-b967-20100c6865b3"
      },
      "execution_count": null,
      "outputs": [
        {
          "output_type": "stream",
          "name": "stdout",
          "text": [
            "Sarvani\n",
            "S\n"
          ]
        }
      ]
    },
    {
      "cell_type": "code",
      "source": [
        "#string having immutable nature\n",
        "name = \"Vidya\"\n",
        "print(name)\n",
        "print(name[0])\n",
        "name[0]=\"x\""
      ],
      "metadata": {
        "colab": {
          "base_uri": "https://localhost:8080/",
          "height": 211
        },
        "id": "R7EIjkRPAlks",
        "outputId": "06680add-b7d3-4a24-c12e-ec407f5c2063"
      },
      "execution_count": null,
      "outputs": [
        {
          "output_type": "stream",
          "name": "stdout",
          "text": [
            "Vidya\n",
            "V\n"
          ]
        },
        {
          "output_type": "error",
          "ename": "TypeError",
          "evalue": "'str' object does not support item assignment",
          "traceback": [
            "\u001b[0;31m---------------------------------------------------------------------------\u001b[0m",
            "\u001b[0;31mTypeError\u001b[0m                                 Traceback (most recent call last)",
            "\u001b[0;32m/tmp/ipython-input-1010384190.py\u001b[0m in \u001b[0;36m<cell line: 0>\u001b[0;34m()\u001b[0m\n\u001b[1;32m      3\u001b[0m \u001b[0mprint\u001b[0m\u001b[0;34m(\u001b[0m\u001b[0mname\u001b[0m\u001b[0;34m)\u001b[0m\u001b[0;34m\u001b[0m\u001b[0;34m\u001b[0m\u001b[0m\n\u001b[1;32m      4\u001b[0m \u001b[0mprint\u001b[0m\u001b[0;34m(\u001b[0m\u001b[0mname\u001b[0m\u001b[0;34m[\u001b[0m\u001b[0;36m0\u001b[0m\u001b[0;34m]\u001b[0m\u001b[0;34m)\u001b[0m\u001b[0;34m\u001b[0m\u001b[0;34m\u001b[0m\u001b[0m\n\u001b[0;32m----> 5\u001b[0;31m \u001b[0mname\u001b[0m\u001b[0;34m[\u001b[0m\u001b[0;36m0\u001b[0m\u001b[0;34m]\u001b[0m\u001b[0;34m=\u001b[0m\u001b[0;34m\"x\"\u001b[0m\u001b[0;34m\u001b[0m\u001b[0;34m\u001b[0m\u001b[0m\n\u001b[0m",
            "\u001b[0;31mTypeError\u001b[0m: 'str' object does not support item assignment"
          ]
        }
      ]
    },
    {
      "cell_type": "code",
      "source": [
        "# +works as concatenation operator\n",
        "a = \"Python\"\n",
        "b = \"Programming\"\n",
        "print(a+b)"
      ],
      "metadata": {
        "colab": {
          "base_uri": "https://localhost:8080/"
        },
        "id": "k7JNHNlZBI4w",
        "outputId": "c88b643f-29ad-41b2-8d4c-462ccd224270"
      },
      "execution_count": null,
      "outputs": [
        {
          "output_type": "stream",
          "name": "stdout",
          "text": [
            "PythonProgramming\n"
          ]
        }
      ]
    },
    {
      "cell_type": "code",
      "source": [
        "# *works as repetition in strings\n",
        "course = \"Python\"\n",
        "print(course*3)"
      ],
      "metadata": {
        "colab": {
          "base_uri": "https://localhost:8080/"
        },
        "id": "xT3dqrVPBo8x",
        "outputId": "098ab8ce-e1b8-467a-ba87-4614bfc94fb8"
      },
      "execution_count": null,
      "outputs": [
        {
          "output_type": "stream",
          "name": "stdout",
          "text": [
            "PythonPythonPython\n"
          ]
        }
      ]
    },
    {
      "cell_type": "code",
      "source": [
        "#length of the string\n",
        "course = \"Python\"\n",
        "print(len(course))"
      ],
      "metadata": {
        "colab": {
          "base_uri": "https://localhost:8080/"
        },
        "id": "nNDdC3-wB7w3",
        "outputId": "46b2597f-db37-4a14-99f8-c4297ca2182c"
      },
      "execution_count": null,
      "outputs": [
        {
          "output_type": "stream",
          "name": "stdout",
          "text": [
            "6\n"
          ]
        }
      ]
    },
    {
      "cell_type": "code",
      "source": [
        "# in operator\n",
        "print(\"p\" in 'python')\n",
        "print(\"z\" in 'python')\n",
        "print(\"PY\" in 'pyhton')\n",
        "print(\"on\" in 'python')\n",
        "print(\"pa\" in 'python')"
      ],
      "metadata": {
        "colab": {
          "base_uri": "https://localhost:8080/"
        },
        "id": "6dg5h5bWCKQW",
        "outputId": "b90049a6-24ad-4991-f2fc-51a5fa033ced"
      },
      "execution_count": null,
      "outputs": [
        {
          "output_type": "stream",
          "name": "stdout",
          "text": [
            "True\n",
            "False\n",
            "False\n",
            "True\n",
            "False\n"
          ]
        }
      ]
    }
  ]
}